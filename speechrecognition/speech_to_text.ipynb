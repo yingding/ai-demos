{
 "cells": [
  {
   "cell_type": "markdown",
   "id": "cf409d1a",
   "metadata": {},
   "source": [
    "# Intro\n",
    "\n",
    "STT Audio File\n",
    "\n",
    "Reference:\n",
    "* https://learn.microsoft.com/en-gb/azure/ai-services/speech-service/get-started-speech-to-text?pivots=programming-language-python&tabs=linux%2Cterminal#remarks"
   ]
  }
 ],
 "metadata": {
  "language_info": {
   "name": "python"
  }
 },
 "nbformat": 4,
 "nbformat_minor": 5
}
