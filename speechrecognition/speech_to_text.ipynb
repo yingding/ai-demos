{
 "cells": [
  {
   "cell_type": "markdown",
   "id": "cf409d1a",
   "metadata": {},
   "source": [
    "# Intro\n",
    "\n",
    "STT Audio File\n",
    "\n",
    "Reference:\n",
    "* https://learn.microsoft.com/en-gb/azure/ai-services/speech-service/get-started-speech-to-text?pivots=programming-language-python&tabs=linux%2Cterminal#remarks\n",
    "\n",
    "Use continous recognition (transcription)\n",
    "* https://learn.microsoft.com/en-gb/azure/ai-services/speech-service/how-to-recognize-speech?pivots=programming-language-python#use-continuous-recognition\n"
   ]
  },
  {
   "cell_type": "code",
   "execution_count": 1,
   "id": "f8011158",
   "metadata": {},
   "outputs": [],
   "source": [
    "from dotenv import dotenv_values\n",
    "import os\n",
    "\n",
    "current_path = os.getcwd()\n",
    "env_file_path = os.path.join(current_path, \"envs\", \"azurespeech.env\")\n",
    "\n",
    "# Load the environment variables from the .env file\n",
    "config = {**dotenv_values(env_file_path)}"
   ]
  },
  {
   "cell_type": "code",
   "execution_count": 2,
   "id": "d8657a4e",
   "metadata": {},
   "outputs": [],
   "source": [
    "import azure.cognitiveservices.speech as speechsdk\n",
    "\n",
    "# Replace with your Azure Speech resource key and region\n",
    "speech_key = config[\"AZURE_SPEECH_KEY\"]\n",
    "service_region = config[\"AZURE_SPEECH_REGION\"]\n",
    "\n",
    "# Create a speech configuration\n",
    "speech_config = speechsdk.SpeechConfig(subscription=speech_key, region=service_region)\n",
    "\n",
    "# Enable auto language identification and specify candidate languages\n",
    "auto_detect_source_language_config = speechsdk.languageconfig.AutoDetectSourceLanguageConfig(\n",
    "    languages=[\"en-US\", \"de-DE\"] # Replace with the languages you want to detect\n",
    ")\n",
    "\n",
    "# Create a recognizer with auto language identification\n",
    "audio_config = speechsdk.audio.AudioConfig(filename=\"data/the whisper of the woods.wav\")  # Use default microphone\n",
    "speech_recognizer = speechsdk.SpeechRecognizer(\n",
    "    speech_config=speech_config,\n",
    "    auto_detect_source_language_config=auto_detect_source_language_config,\n",
    "    audio_config=audio_config,\n",
    ")"
   ]
  },
  {
   "cell_type": "code",
   "execution_count": 3,
   "id": "4b819501",
   "metadata": {},
   "outputs": [],
   "source": [
    "# one of 15sec / 30secs\n",
    "# def from_file():\n",
    "#     speech_recognition_result = speech_recognizer.recognize_once_async().get()\n",
    "#     print(speech_recognition_result)\n",
    "\n",
    "\n",
    "# from_file()"
   ]
  },
  {
   "cell_type": "code",
   "execution_count": 4,
   "id": "b43b451e",
   "metadata": {},
   "outputs": [],
   "source": [
    "# Start language identification and recognition\n",
    "def recognized_callback(evt):\n",
    "    result = evt.result\n",
    "    if result.reason == speechsdk.ResultReason.RecognizedSpeech:\n",
    "        detected_language = result.properties[\n",
    "            speechsdk.PropertyId.SpeechServiceConnection_AutoDetectSourceLanguageResult\n",
    "        ]\n",
    "        # print(f\"Detected Language: {detected_language}\")\n",
    "        print(f\"Recognized Text: {result.text}\")\n",
    "    elif result.reason == speechsdk.ResultReason.NoMatch:\n",
    "        print(\"No speech could be recognized.\")\n",
    "\n",
    "speech_recognizer.recognized.connect(recognized_callback)\n",
    "\n",
    "# Start continuous recognition\n",
    "speech_recognizer.start_continuous_recognition()"
   ]
  },
  {
   "cell_type": "code",
   "execution_count": 5,
   "id": "042e9b8b",
   "metadata": {},
   "outputs": [
    {
     "name": "stdout",
     "output_type": "stream",
     "text": [
      "Recognized Text: Beneath the canopy of ancient oaks, where sunlight danced in a fractured beams, the forest seemed alive with secrets.\n",
      "Recognized Text: The air was thick with the scent of Moss and the earth.\n",
      "Recognized Text: A perfume of time itself, each step upon the soft leaf, strong parts felt like an intrusion into a world untouched by haste.\n",
      "Recognized Text: Birdsong Rove through the silence, a melody of life and sin, while the gentle rustle of leaves whispered tails of season's long past. The trees stood as Sentinels.\n",
      "Recognized Text: Their nailed branches reaching skywards as if in prayer to the heavens.\n",
      "Recognized Text: In this sacred stillness.\n",
      "Recognized Text: The heart found its rhythm, study and unhurried.\n"
     ]
    }
   ],
   "source": [
    "# speech_recognizer.stop_continuous_recognition()"
   ]
  }
 ],
 "metadata": {
  "kernelspec": {
   "display_name": "azureai3.12pip",
   "language": "python",
   "name": "python3"
  },
  "language_info": {
   "codemirror_mode": {
    "name": "ipython",
    "version": 3
   },
   "file_extension": ".py",
   "mimetype": "text/x-python",
   "name": "python",
   "nbconvert_exporter": "python",
   "pygments_lexer": "ipython3",
   "version": "3.12.10"
  }
 },
 "nbformat": 4,
 "nbformat_minor": 5
}
