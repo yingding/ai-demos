{
 "cells": [
  {
   "cell_type": "markdown",
   "metadata": {},
   "source": [
    "## Testing speech identification from default mic\n",
    "1. deploy speech service in azure.\n",
    "2. run the following code (speak in normal pace and long sentence to let the languae identification to match speech to languages)\n",
    "\n",
    "```\n",
    "Speak into your microphone to detect the language...\n",
    "Listening... Press Ctrl+C to stop.\n",
    "Detected Language: zh-CN\n",
    "Recognized Text: 大家好，欢迎到慕尼黑的体验中心.\n",
    "Ctrl+C\n",
    "```\n",
    "\n",
    "You need to stop the previous language identification and rerun for new identification\n",
    "```\n",
    "Detected Language: en-US\n",
    "Recognized Text: Good morning，everyone。welcome to the Munich experience center\n",
    "Ctrl+C\n",
    "```\n",
    "\n",
    "You need to stop the previous language identification and rerun for new identification\n",
    "```\n",
    "Detected Language: de-DE\n",
    "Recognized Text: Herzlich Willkommen zu Münchener Erlebniszentrum.\n",
    "```"
   ]
  },
  {
   "cell_type": "code",
   "execution_count": 1,
   "metadata": {},
   "outputs": [],
   "source": [
    "from dotenv import dotenv_values\n",
    "import os\n",
    "\n",
    "current_path = os.getcwd()\n",
    "env_file_path = os.path.join(current_path, \"envs\", \"azurespeech.env\")\n",
    "\n",
    "# Load the environment variables from the .env file\n",
    "config = {**dotenv_values(env_file_path)}"
   ]
  },
  {
   "cell_type": "code",
   "execution_count": 3,
   "metadata": {},
   "outputs": [
    {
     "name": "stdout",
     "output_type": "stream",
     "text": [
      "Speak into your microphone to detect the language...\n",
      "Listening... Press Ctrl+C to stop.\n",
      "Detected Language: zh-CN\n",
      "Recognized Text: 大家好，欢迎到慕尼黑的体验中心。\n",
      "Stopping...\n"
     ]
    }
   ],
   "source": [
    "import azure.cognitiveservices.speech as speechsdk\n",
    "\n",
    "# Replace with your Azure Speech resource key and region\n",
    "speech_key = config[\"AZURE_SPEECH_KEY\"]\n",
    "service_region = config[\"AZURE_SPEECH_REGION\"]\n",
    "\n",
    "# Create a speech configuration\n",
    "speech_config = speechsdk.SpeechConfig(subscription=speech_key, region=service_region)\n",
    "\n",
    "# Enable auto language identification and specify candidate languages\n",
    "auto_detect_source_language_config = speechsdk.languageconfig.AutoDetectSourceLanguageConfig(\n",
    "    languages=[\"zh-CN\", \"en-US\", \"de-DE\"] # Replace with the languages you want to detect\n",
    ")\n",
    "\n",
    "# Create a recognizer with auto language identification\n",
    "audio_config = speechsdk.audio.AudioConfig(use_default_microphone=True)  # Use default microphone\n",
    "speech_recognizer = speechsdk.SpeechRecognizer(\n",
    "    speech_config=speech_config,\n",
    "    auto_detect_source_language_config=auto_detect_source_language_config,\n",
    "    audio_config=audio_config,\n",
    ")\n",
    "\n",
    "print(\"Speak into your microphone to detect the language...\")\n",
    "\n",
    "# Start language identification and recognition\n",
    "def recognized_callback(evt):\n",
    "    result = evt.result\n",
    "    if result.reason == speechsdk.ResultReason.RecognizedSpeech:\n",
    "        detected_language = result.properties[\n",
    "            speechsdk.PropertyId.SpeechServiceConnection_AutoDetectSourceLanguageResult\n",
    "        ]\n",
    "        print(f\"Detected Language: {detected_language}\")\n",
    "        print(f\"Recognized Text: {result.text}\")\n",
    "    elif result.reason == speechsdk.ResultReason.NoMatch:\n",
    "        print(\"No speech could be recognized.\")\n",
    "\n",
    "speech_recognizer.recognized.connect(recognized_callback)\n",
    "\n",
    "# Start continuous recognition\n",
    "speech_recognizer.start_continuous_recognition()\n",
    "print(\"Listening... Press Ctrl+C to stop.\")\n",
    "\n",
    "try:\n",
    "    while True:\n",
    "        pass\n",
    "except KeyboardInterrupt:\n",
    "    print(\"Stopping...\")\n",
    "    speech_recognizer.stop_continuous_recognition()\n"
   ]
  },
  {
   "cell_type": "code",
   "execution_count": null,
   "metadata": {},
   "outputs": [],
   "source": []
  }
 ],
 "metadata": {
  "kernelspec": {
   "display_name": "azureai3.12pip",
   "language": "python",
   "name": "python3"
  },
  "language_info": {
   "codemirror_mode": {
    "name": "ipython",
    "version": 3
   },
   "file_extension": ".py",
   "mimetype": "text/x-python",
   "name": "python",
   "nbconvert_exporter": "python",
   "pygments_lexer": "ipython3",
   "version": "3.12.10"
  }
 },
 "nbformat": 4,
 "nbformat_minor": 2
}
