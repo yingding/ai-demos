{
 "cells": [
  {
   "cell_type": "markdown",
   "id": "0447832e",
   "metadata": {},
   "source": [
    "# Introduction\n",
    "\n",
    "## Login in with the right tenant with az cli\n",
    "using \n",
    "```powershell\n",
    "az account show\n",
    "```\n",
    "to see whether you logged in with the right tenant.\n",
    "\n",
    "login from powershell\n",
    "```powershell\n",
    "az logout\n",
    "az account clear\n",
    "az login --tenant 00000000-0000-0000-0000-000000000000\n",
    "```\n",
    "Note:\n",
    "* `00000000-0000-0000-0000-000000000000` is the tenant id, which can be found at `Microsoft Entra ID` from Azure Portal\n",
    "* if prompt with your user login, login\n",
    "* if prompt with a choose of subscription available on the tenant, type in the 'No' (index number of your designed subscription to use)\n",
    "\n",
    "Important:\n",
    "* Reopen the VSCode to reload the token from Azure Cli and Environment.\n",
    "\n",
    "\n",
    "Reference Doc:\n",
    "* https://pypi.org/project/azure-ai-inference/\n"
   ]
  },
  {
   "cell_type": "code",
   "execution_count": 1,
   "id": "e3abf888",
   "metadata": {},
   "outputs": [],
   "source": [
    "import asyncio\n",
    "from azure.ai.inference import ChatCompletionsClient\n",
    "from azure.identity import DefaultAzureCredential\n",
    "from azure.core.credentials import AzureKeyCredential\n",
    "from azure.ai.inference.models import SystemMessage, UserMessage\n",
    "\n",
    "from dotenv import dotenv_values\n",
    "\n",
    "config = {\n",
    "    **dotenv_values(\"./envs/aifoundry.env\")\n",
    "}"
   ]
  },
  {
   "cell_type": "code",
   "execution_count": 2,
   "id": "56b0efe4",
   "metadata": {},
   "outputs": [],
   "source": [
    "# For Managed Compute endpoints\n",
    "endpoint = config[\"AZURE_INFERENCE_SDK_ENDPOINT\"]\n",
    "model_name = config[\"DEPLOYMENT_NAME\"]\n",
    "key = config[\"AZURE_INFERENCE_SDK_KEY\"]\n",
    "\n",
    "# # client = ChatCompletionsClient(endpoint=endpoint, credential=DefaultAzureCredential(exclude_interactive_browser_credential=False))\n",
    "\n",
    "# local test with Azure Key Credential\n",
    "client = ChatCompletionsClient(endpoint=endpoint, credential=AzureKeyCredential(key))\n"
   ]
  },
  {
   "cell_type": "code",
   "execution_count": 3,
   "id": "214cff9a",
   "metadata": {},
   "outputs": [],
   "source": [
    "# from azure.ai.inference import load_client \n",
    "\n",
    "# For Serverless API or Managed Compute endpoints only.\n",
    "# This will not work on GitHub Models endpoint or Azure OpenAI endpoint.\n",
    "# client = load_client(\n",
    "#     endpoint=endpoint,\n",
    "#     credential=AzureKeyCredential(key)\n",
    "# )\n",
    "\n",
    "# client.get_model_info(model=model_name)"
   ]
  },
  {
   "cell_type": "code",
   "execution_count": 4,
   "id": "e47f61bc",
   "metadata": {},
   "outputs": [],
   "source": [
    "# client.__doc__"
   ]
  },
  {
   "cell_type": "code",
   "execution_count": 5,
   "id": "d2fa547f",
   "metadata": {},
   "outputs": [],
   "source": [
    "response = client.complete(\n",
    "  messages=[\n",
    "    SystemMessage(content=\"You are a helpful assistant.\"),\n",
    "    UserMessage(content=\"What are 3 things to visit in Seattle?\")\n",
    "  ],\n",
    "  model = model_name,\n",
    "  max_tokens=1000\n",
    ")\n",
    "\n",
    "# print(response)"
   ]
  },
  {
   "cell_type": "code",
   "execution_count": null,
   "id": "6bd2b883",
   "metadata": {},
   "outputs": [],
   "source": [
    "client.close()"
   ]
  }
 ],
 "metadata": {
  "kernelspec": {
   "display_name": "search3.12winpip",
   "language": "python",
   "name": "python3"
  },
  "language_info": {
   "codemirror_mode": {
    "name": "ipython",
    "version": 3
   },
   "file_extension": ".py",
   "mimetype": "text/x-python",
   "name": "python",
   "nbconvert_exporter": "python",
   "pygments_lexer": "ipython3",
   "version": "3.12.10"
  }
 },
 "nbformat": 4,
 "nbformat_minor": 5
}
