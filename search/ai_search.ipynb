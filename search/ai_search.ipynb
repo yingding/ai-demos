{
 "cells": [],
 "metadata": {
  "kernelspec": {
   "display_name": "search3.12winpip",
   "language": "python",
   "name": "python3"
  },
  "language_info": {
   "name": "python",
   "version": "3.12.9"
  }
 },
 "nbformat": 4,
 "nbformat_minor": 5
}
