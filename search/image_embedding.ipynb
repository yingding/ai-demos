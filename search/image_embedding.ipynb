{
 "cells": [
  {
   "cell_type": "markdown",
   "id": "bfb61cb8",
   "metadata": {},
   "source": [
    "# Introduction\n",
    "\n",
    "Multimodal with computer vision model\n",
    "* https://learn.microsoft.com/en-us/azure/ai-services/computer-vision/how-to/image-retrieval?tabs=csharp\n",
    "\n"
   ]
  },
  {
   "cell_type": "code",
   "execution_count": null,
   "id": "6fd55c03",
   "metadata": {},
   "outputs": [],
   "source": [
    "import requests\n",
    "\n",
    "# Define the endpoint and subscription key\n",
    "endpoint = \"https://your-endpoint-url/computervision/retrieval:vectorizeImage?api-version=2024-02-01&model-version=2023-04-15\"\n",
    "subscription_key = \"your-subscription-key\"\n",
    "\n",
    "# Define the headers\n",
    "headers = {\n",
    "    \"Content-Type\": \"application/json\",\n",
    "    \"Ocp-Apim-Subscription-Key\": subscription_key\n",
    "}\n",
    "\n",
    "# Define the data\n",
    "data = {\n",
    "    \"url\": \"https://learn.microsoft.com/azure/ai-services/computer-vision/media/quickstarts/presentation.png\"\n",
    "}\n",
    "\n",
    "# Make the POST request\n",
    "response = requests.post(endpoint, headers=headers, json=data)\n",
    "\n",
    "# Print the response\n",
    "print(response.status_code)\n",
    "print(response.json())\n"
   ]
  }
 ],
 "metadata": {
  "kernelspec": {
   "display_name": "search3.12winpip",
   "language": "python",
   "name": "python3"
  },
  "language_info": {
   "name": "python",
   "version": "3.12.9"
  }
 },
 "nbformat": 4,
 "nbformat_minor": 5
}
