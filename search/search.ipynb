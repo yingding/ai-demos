{
 "cells": [
  {
   "cell_type": "markdown",
   "id": "5b81db0f",
   "metadata": {},
   "source": [
    "## Introduction\n",
    "\n",
    "\n",
    "#### Additional References:\n",
    "* Azure Search Openai Repo: https://github.com/Azure-Samples/azure-search-openai-demo/tree/main?tab=MIT-1-ov-file\n",
    "* Azure Search Openai demo: https://github.com/Azure-Samples/azure-search-openai-demo/blob/main/README.md#cost-estimation\n"
   ]
  },
  {
   "cell_type": "code",
   "execution_count": 9,
   "id": "95c5d255",
   "metadata": {},
   "outputs": [
    {
     "data": {
      "text/plain": [
       "''"
      ]
     },
     "execution_count": 9,
     "metadata": {},
     "output_type": "execute_result"
    }
   ],
   "source": [
    "from azure.core.credentials import AzureKeyCredential\n",
    "from azure.identity import DefaultAzureCredential\n",
    "from azure.search.documents.indexes import SearchIndexClient\n",
    "from azure.search.documents.indexes.models import (\n",
    "    SearchIndex,\n",
    "    SimpleField,\n",
    "    # edm,\n",
    "    SearchFieldDataType,\n",
    "    SearchIndexer,\n",
    "    SearchIndexerDataSourceConnection,\n",
    "    SearchIndexerDataSourceType,\n",
    "    SearchIndexerDataContainer,\n",
    "    SearchIndexerDataIdentity\n",
    ")\n",
    "from dotenv import dotenv_values\n",
    "\n",
    "config = {\n",
    "    **dotenv_values(\"./envs/aisearch.env\")\n",
    "}\n",
    "\n",
    "key = config[\"AZURE_AI_SEARCH_KEY\"]\n",
    "endpoint = config[\"AZURE_AI_SEARCH_ENDPOINT\"]\n",
    "# Blob storage details\n",
    "# storage_connection_string = config[\"AZURE_STORAGE_CONNECTION_STRING\"]\n",
    "blob_container_name = config[\"AZURE_BLOB_CONTAINER_NAME\"]\n",
    "\n",
    "# use \"\" to avoid acidentally output the config variable in notebook cells\n",
    "\"\"\n"
   ]
  },
  {
   "cell_type": "markdown",
   "id": "70fdf00b",
   "metadata": {},
   "source": [
    "## Setup an indexing pipeline"
   ]
  },
  {
   "cell_type": "code",
   "execution_count": 10,
   "id": "6a637cc5",
   "metadata": {},
   "outputs": [
    {
     "data": {
      "text/plain": [
       "<azure.search.documents.indexes.models._index.SearchIndex at 0x228c5b5fd40>"
      ]
     },
     "execution_count": 10,
     "metadata": {},
     "output_type": "execute_result"
    }
   ],
   "source": [
    "\n",
    "# Azure AI Search service details\n",
    "# give a name to your index, data source and indexer\n",
    "index_name = \"blob-index-demo-1\"\n",
    "data_source_name = \"blob-datasource-catalog-1\"\n",
    "indexer_name = \"blob-indexer-demo-1\"\n",
    "\n",
    "# Create SearchIndexClient\n",
    "credential = AzureKeyCredential(key)\n",
    "# credential = DefaultAzureCredential(exclude_interactive_browser_credential=True)\n",
    "index_client = SearchIndexClient(endpoint=endpoint, credential=credential)\n",
    "\n",
    "# Define Data Source Connection to Blob Storage using key connection string\n",
    "# data_source = SearchIndexerDataSourceConnection(\n",
    "#     name=data_source_name,\n",
    "#     type=\"azureblob\",\n",
    "#     connection_string=storage_connection_string,\n",
    "#     container=SearchIndexerDataContainer(name=blob_container_name)\n",
    "# )\n",
    "\n",
    "## Indexer Data Source Connection allows to parse json, csv, text not pdf files\n",
    "\n",
    "# Define Data Source Connection using System Managed Identity\n",
    "# enable System Managed Identity for the Azure AI Search service in the Azure portal\n",
    "# and for the Blob Storage account in the Azure portal\n",
    "# IAM role asssignment \"Storage Blob Data Reader\" to the Search service managed Identity\n",
    "\n",
    "# data_source = SearchIndexerDataSourceConnection(\n",
    "#     name=data_source_name,\n",
    "#     type=SearchIndexerDataSourceType.AZURE_BLOB,\n",
    "#     container=SearchIndexerDataContainer(name=blob_container_name),\n",
    "#     data_identity=SearchIndexerDataIdentity(identity_type=\"#Microsoft.Azure.Search.SystemAssignedIdentity\")\n",
    "# )\n",
    "# index_client.create_or_update_data_source_connection(data_source)\n",
    "\n",
    "# Define Search Index Schema\n",
    "index = SearchIndex(\n",
    "    name=index_name,\n",
    "    fields=[\n",
    "        SimpleField(name=\"id\", type=SearchFieldDataType.String, key=True),\n",
    "        SimpleField(name=\"content\", type=SearchFieldDataType.String, searchable=True)\n",
    "    ]\n",
    ")\n",
    "index_client.create_or_update_index(index)\n",
    "\n",
    "# Define Indexer to automate indexing\n",
    "# The indexer will read the data from the data source and write it to the index\n",
    "# indexer = SearchIndexer(\n",
    "#     name=indexer_name,\n",
    "#     data_source_name=data_source_name,\n",
    "#     target_index_name=index_name\n",
    "# )\n",
    "# index_client.create_or_update_indexer(indexer)\n",
    "\n",
    "# Run Indexer\n",
    "# index_client.run_indexer(indexer_name)\n"
   ]
  },
  {
   "cell_type": "code",
   "execution_count": null,
   "id": "794ea862",
   "metadata": {},
   "outputs": [],
   "source": []
  }
 ],
 "metadata": {
  "kernelspec": {
   "display_name": "search3.12winpip",
   "language": "python",
   "name": "python3"
  },
  "language_info": {
   "codemirror_mode": {
    "name": "ipython",
    "version": 3
   },
   "file_extension": ".py",
   "mimetype": "text/x-python",
   "name": "python",
   "nbconvert_exporter": "python",
   "pygments_lexer": "ipython3",
   "version": "3.12.10"
  }
 },
 "nbformat": 4,
 "nbformat_minor": 5
}
