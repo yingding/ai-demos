{
 "cells": [
  {
   "cell_type": "markdown",
   "id": "5b81db0f",
   "metadata": {},
   "source": [
    "## Introduction\n",
    "\n",
    "\n",
    "#### Additional References:\n",
    "* Azure Search Openai Repo: https://github.com/Azure-Samples/azure-search-openai-demo/tree/main?tab=MIT-1-ov-file\n",
    "* Azure Search Openai demo: https://github.com/Azure-Samples/azure-search-openai-demo/blob/main/README.md#cost-estimation\n",
    "* Vector Search demo code https://github.com/Azure/azure-search-vector-samples/tree/main/demo-python\n",
    "* https://github.com/Azure/azure-search-vector-samples/blob/main/demo-python/code/community-integration/cohere/azure-search-cohere-embed-v3-sample.ipynb"
   ]
  },
  {
   "cell_type": "code",
   "execution_count": 7,
   "id": "95c5d255",
   "metadata": {},
   "outputs": [
    {
     "data": {
      "text/plain": [
       "''"
      ]
     },
     "execution_count": 7,
     "metadata": {},
     "output_type": "execute_result"
    }
   ],
   "source": [
    "from azure.core.credentials import AzureKeyCredential\n",
    "from azure.identity import DefaultAzureCredential\n",
    "from azure.search.documents.indexes import SearchIndexClient\n",
    "from azure.search.documents import SearchClient\n",
    "from azure.search.documents.models import (\n",
    "    VectorizedQuery\n",
    ")\n",
    "from azure.search.documents.indexes.models import (\n",
    "    SearchIndex,\n",
    "    SimpleField,\n",
    "    # edm,\n",
    "    SearchFieldDataType,\n",
    "    SearchIndexer,\n",
    "    SearchIndexerDataSourceConnection,\n",
    "    SearchIndexerDataSourceType,\n",
    "    SearchIndexerDataContainer,\n",
    "    SearchIndexerDataIdentity,\n",
    "    HnswAlgorithmConfiguration,\n",
    "    SearchField,\n",
    "    SearchableField,\n",
    "    VectorSearch,\n",
    "    VectorSearchAlgorithmKind,\n",
    "    VectorSearchProfile\n",
    ")\n",
    "from dotenv import dotenv_values\n",
    "from azure.ai.inference import EmbeddingsClient, ImageEmbeddingsClient\n",
    "from azure.ai.inference.models import ImageEmbeddingInput, EmbeddingItem, EmbeddingsResult\n",
    "import re, os, uuid \n",
    "\n",
    "from embed_util import EmbedResult\n",
    "import requests\n",
    "from io import BytesIO\n",
    "\n",
    "config = {\n",
    "    **dotenv_values(\"./envs/aisearch.env\")\n",
    "}\n",
    "\n",
    "search_key = config[\"AZURE_AI_SEARCH_KEY\"]\n",
    "search_endpoint = config[\"AZURE_AI_SEARCH_ENDPOINT\"]\n",
    "# Blob storage details\n",
    "# storage_connection_string = config[\"AZURE_STORAGE_CONNECTION_STRING\"]\n",
    "blob_container_name = config[\"AZURE_BLOB_CONTAINER_NAME\"]\n",
    "\n",
    "embed_endpoint = config[\"AZURE_INFERENCE_ENDPOINT\"]\n",
    "embed_key = config[\"AZURE_INFERENCE_KEY\"]\n",
    "embed_model = config[\"MODEL_NAME\"]\n",
    "\n",
    "# use \"\" to avoid acidentally output the config variable in notebook cells\n",
    "\"\"\n"
   ]
  },
  {
   "cell_type": "markdown",
   "id": "70fdf00b",
   "metadata": {},
   "source": [
    "## Setup an indexing pipeline"
   ]
  },
  {
   "cell_type": "code",
   "execution_count": 8,
   "id": "6a637cc5",
   "metadata": {},
   "outputs": [],
   "source": [
    "\n",
    "# Azure AI Search service details\n",
    "# give a name to your index, data source and indexer\n",
    "index_name = \"cohere-embed-v3-index\"\n",
    "# data_source_name = \"blob-datasource-catalog-1\"\n",
    "# indexer_name = \"blob-indexer-demo-1\"\n",
    "\n",
    "# Create SearchIndexClient\n",
    "search_credential = AzureKeyCredential(search_key)\n",
    "\n",
    "# index_client = SearchIndexClient(endpoint=search_endpoint, credential=search_credential)\n",
    "\n",
    "# # Define Search Index Schema\n",
    "# index = SearchIndex(\n",
    "#     name=index_name,\n",
    "#     fields=[\n",
    "#         SimpleField(name=\"id\", type=SearchFieldDataType.String, key=True),\n",
    "#         SimpleField(name=\"content\", type=SearchFieldDataType.String, searchable=True)\n",
    "#     ]\n",
    "# )\n",
    "# index_client.create_or_update_index(index)"
   ]
  },
  {
   "cell_type": "markdown",
   "id": "fe8b9404",
   "metadata": {},
   "source": [
    "## Generate Embeddings Function"
   ]
  },
  {
   "cell_type": "code",
   "execution_count": 19,
   "id": "82eb8203",
   "metadata": {},
   "outputs": [],
   "source": [
    "embed_text = EmbeddingsClient(\n",
    "    endpoint=embed_endpoint,\n",
    "    credential=AzureKeyCredential(embed_key)\n",
    ")\n",
    "\n",
    "img_embed = ImageEmbeddingsClient(\n",
    "    endpoint=embed_endpoint,\n",
    "    credential=AzureKeyCredential(embed_key)\n",
    ")\n",
    "\n",
    "# def parse_embed_result(response: EmbeddingsResult, model=None, idx=0) -> EmbedResult:\n",
    "#     \"\"\"parse the embedding result for response by given index\"\"\"\n",
    "#     if response.data is not None:\n",
    "#         item = response.data[idx]\n",
    "#         if isinstance(item, EmbeddingItem):\n",
    "#             return EmbedResult({\n",
    "#                 \"modelVersion\": model,\n",
    "#                 \"vector\":item.embedding\n",
    "#             })\n",
    "#     return None\n",
    "\n",
    "def parse_embed_result(response: EmbeddingsResult, model=None) -> list:\n",
    "    \"\"\"parse the embedding result for responsex\"\"\"\n",
    "    if response.data is not None:\n",
    "       return [item.embedding for item in response.data]\n",
    "    return []\n",
    "\n"
   ]
  },
  {
   "cell_type": "code",
   "execution_count": 20,
   "id": "794ea862",
   "metadata": {},
   "outputs": [],
   "source": [
    "\n",
    "def gen_text_embeddings(texts, model=embed_model)-> list:\n",
    "    # ensure texts is a list\n",
    "    if isinstance(texts, str):\n",
    "        texts = [texts]\n",
    "    \n",
    "    text_response = embed_text.embed(\n",
    "        input=texts,\n",
    "        model=model,\n",
    "    )\n",
    "    return parse_embed_result(text_response, model=model)\n",
    "\n",
    "data_path = os.path.join(os.getcwd(), \"data\")\n",
    "\n",
    "def gen_img_embeddings(url, image_format=\"jpeg\", model=embed_model)-> EmbedResult:   \n",
    "    url_pattern = re.compile(r'^https://[^\\s]+$')\n",
    "    \n",
    "    if url_pattern.match(url):\n",
    "        # save to cache\n",
    "        response = requests.get(url)\n",
    "        img = Image.open(BytesIO(response.content))\n",
    "        \n",
    "        cache_image_name = f\"image_cache_{str(uuid.uuid4())}.{image_format}\"\n",
    "        img_file_path = img.save(os.path.join(data_path, cache_image_name))\n",
    "\n",
    "        img_embed_input = ImageEmbeddingInput.load(image_file=img_file_path, image_format=image_format)\n",
    "\n",
    "        img_response = img_embed.embed(\n",
    "            input=[img_embed_input],\n",
    "            model=model,\n",
    "        )\n",
    "        return parse_embed_result(img_response, model=model)"
   ]
  },
  {
   "cell_type": "markdown",
   "id": "031a3223",
   "metadata": {},
   "source": [
    "## Create or Update Azure AI Search Index\n",
    "\n",
    "This function creates or updates an Azure AI Search Index to include a vector field for storing the document embeddings"
   ]
  },
  {
   "cell_type": "code",
   "execution_count": 21,
   "id": "15131100",
   "metadata": {},
   "outputs": [],
   "source": [
    "def create_or_update_index(client, index_name):\n",
    "    fields = [\n",
    "        SimpleField(name=\"id\", type=SearchFieldDataType.String, key=True),\n",
    "        SearchField(\n",
    "            name=\"text\",\n",
    "            type=SearchFieldDataType.String,\n",
    "            searchable=True,\n",
    "        ),\n",
    "        SearchField(\n",
    "            name=\"embedding\",\n",
    "            type=SearchFieldDataType.Collection(SearchFieldDataType.Single), # OData syntax for 32-bit floating point number\n",
    "            # type=\"Collection(Edm.SByte)\",  # OData syntax for 8-bit signed integer\n",
    "            vector_search_dimensions=1024,\n",
    "            vector_search_profile_name=\"my-vector-config\",\n",
    "            # hidden=False, Use hidden=False if you want to return the embeddings in the search results\n",
    "        ),\n",
    "    ]\n",
    "\n",
    "    vector_search = VectorSearch(\n",
    "        profiles=[\n",
    "            VectorSearchProfile(\n",
    "                name=\"my-vector-config\",\n",
    "                algorithm_configuration_name=\"my-hnsw\",\n",
    "            )\n",
    "        ],\n",
    "        # hierarchical navigable small world (HNSW) algorithm configuration\n",
    "        # https://learn.microsoft.com/en-gb/azure/search/vector-search-overview#nearest-neighbors-search\n",
    "        algorithms=[\n",
    "            HnswAlgorithmConfiguration(\n",
    "                name=\"my-hnsw\",\n",
    "                kind=VectorSearchAlgorithmKind.HNSW,\n",
    "            )\n",
    "        ],\n",
    "    )\n",
    "\n",
    "    index = SearchIndex(name=index_name, fields=fields, vector_search=vector_search)\n",
    "    client.create_or_update_index(index=index)"
   ]
  },
  {
   "cell_type": "markdown",
   "id": "9eb95d46",
   "metadata": {},
   "source": [
    "## Index Documents and Their Embeddings\n",
    "\n",
    "Finally, this function indexes the documents along with their float embeddings into Azure AI Search. For demonstration, document IDs are generated sequentially, but in practical applications, it's essential to use meaningful identifiers like database row ID, unique filenames, or any other unique metadata associated with the document."
   ]
  },
  {
   "cell_type": "code",
   "execution_count": 22,
   "id": "88c1a77d",
   "metadata": {},
   "outputs": [],
   "source": [
    "def index_documents(search_client, documents, embeddings):\n",
    "    documents_to_index = [\n",
    "        {\"id\": str(idx), \"text\": doc, \"embedding\": emb}\n",
    "        for idx, (doc, emb) in enumerate(zip(documents, embeddings))\n",
    "    ]\n",
    "    search_client.upload_documents(documents=documents_to_index)"
   ]
  },
  {
   "cell_type": "markdown",
   "id": "9968f4e7",
   "metadata": {},
   "source": [
    "## Run the workflow"
   ]
  },
  {
   "cell_type": "code",
   "execution_count": 23,
   "id": "50a2ff5e",
   "metadata": {},
   "outputs": [],
   "source": [
    "documents = [\n",
    "    \"Alan Turing  was an English mathematician, computer scientist, logician, cryptanalyst, philosopher and theoretical biologist.\",\n",
    "    \"Albert Einstein was a German-born theoretical physicist who is widely held to be one of the greatest and most influential scientists of all time.\",\n",
    "    \"Isaac Newton was an English polymath active as a mathematician, physicist, astronomer, alchemist, theologian, and author who was described in his time as a natural philosopher.\",\n",
    "    \"Marie Curie was a Polish and naturalised-French physicist and chemist who conducted pioneering research on radioactivity\"\n",
    "]\n",
    "\n",
    "# Generate embeddings\n",
    "embeddings = gen_text_embeddings(documents, model=embed_model)\n",
    "\n",
    "# Initialize Azure Search Index Client\n",
    "search_index_client = SearchIndexClient(\n",
    "    endpoint=search_endpoint,\n",
    "    credential=search_credential,\n",
    "    index_name=index_name\n",
    ")\n",
    "\n",
    "# Create or update the search index to include the embedding field\n",
    "create_or_update_index(search_index_client, index_name)\n",
    "\n",
    "# Initialize the SearchClient\n",
    "search_client = SearchClient(\n",
    "    endpoint=search_endpoint, \n",
    "    index_name=index_name, \n",
    "    credential=search_credential\n",
    ")\n",
    "\n",
    "# # Index the documents and their embeddings\n",
    "# index_documents(search_client, documents, embeddings)"
   ]
  },
  {
   "cell_type": "code",
   "execution_count": null,
   "id": "0c39d3a5",
   "metadata": {},
   "outputs": [
    {
     "data": {
      "text/plain": [
       "4"
      ]
     },
     "execution_count": 24,
     "metadata": {},
     "output_type": "execute_result"
    }
   ],
   "source": [
    "# len(documents)"
   ]
  },
  {
   "cell_type": "code",
   "execution_count": null,
   "id": "768c5461",
   "metadata": {},
   "outputs": [
    {
     "data": {
      "text/plain": [
       "4"
      ]
     },
     "execution_count": 26,
     "metadata": {},
     "output_type": "execute_result"
    }
   ],
   "source": [
    "# len(embeddings)"
   ]
  },
  {
   "cell_type": "code",
   "execution_count": 27,
   "id": "b3f88168",
   "metadata": {},
   "outputs": [],
   "source": [
    "# Index the documents and their embeddings\n",
    "index_documents(search_client, documents, embeddings)"
   ]
  },
  {
   "cell_type": "code",
   "execution_count": null,
   "id": "40866ebe",
   "metadata": {},
   "outputs": [],
   "source": [
    "### Perform a Vector Search"
   ]
  },
  {
   "cell_type": "code",
   "execution_count": 38,
   "id": "959d4ef6",
   "metadata": {},
   "outputs": [],
   "source": [
    "from azure.search.documents import SearchClient\n",
    "\n",
    "# Query for vector search\n",
    "query = \"foundational figures in computer science\"\n",
    "\n",
    "# Generate query embeddings\n",
    "# Use input_type=\"search_query\" for query embeddings\n",
    "query_embeddings = gen_text_embeddings(query, model=embed_model)\n",
    "\n",
    "search_client = SearchClient(search_endpoint, index_name, search_credential)"
   ]
  },
  {
   "cell_type": "code",
   "execution_count": 39,
   "id": "5f6956e8",
   "metadata": {},
   "outputs": [],
   "source": [
    "vector_query = VectorizedQuery(\n",
    "    vector=query_embeddings[0], k_nearest_neighbors=3, fields=\"embedding\"\n",
    ")\n",
    "\n",
    "results = search_client.search(\n",
    "    search_text=None,  # No search text for pure vector search\n",
    "    vector_queries=[vector_query],\n",
    ")\n",
    "\n",
    "# for result in results:\n",
    "#     print(f\"Text: {result['text']}\")\n",
    "#     print(f\"Score: {result['@search.score']}\\n\")"
   ]
  },
  {
   "cell_type": "markdown",
   "id": "568af3b5",
   "metadata": {},
   "source": [
    "A search result look like this.\n",
    "```json\n",
    "{'text': 'Marie Curie was a Polish and naturalised-French physicist and chemist who conducted pioneering research on radioactivity',\n",
    " 'id': '3',\n",
    " '@search.score': 0.6064307,\n",
    " '@search.reranker_score': None,\n",
    " '@search.highlights': None,\n",
    " '@search.captions': None}\n",
    " ```"
   ]
  },
  {
   "cell_type": "code",
   "execution_count": 40,
   "id": "c5b18aba",
   "metadata": {},
   "outputs": [
    {
     "name": "stdout",
     "output_type": "stream",
     "text": [
      "Text: Alan Turing  was an English mathematician, computer scientist, logician, cryptanalyst, philosopher and theoretical biologist.\n",
      "Score: 0.6697743\n",
      "\n",
      "Text: Isaac Newton was an English polymath active as a mathematician, physicist, astronomer, alchemist, theologian, and author who was described in his time as a natural philosopher.\n",
      "Score: 0.616247\n",
      "\n",
      "Text: Marie Curie was a Polish and naturalised-French physicist and chemist who conducted pioneering research on radioactivity\n",
      "Score: 0.6064307\n",
      "\n"
     ]
    }
   ],
   "source": [
    "for result in results:\n",
    "    print(f\"Text: {result['text']}\")\n",
    "    print(f\"Score: {result['@search.score']}\\n\")"
   ]
  },
  {
   "cell_type": "code",
   "execution_count": null,
   "id": "b7937648",
   "metadata": {},
   "outputs": [],
   "source": []
  }
 ],
 "metadata": {
  "kernelspec": {
   "display_name": "search3.12winpip",
   "language": "python",
   "name": "python3"
  },
  "language_info": {
   "codemirror_mode": {
    "name": "ipython",
    "version": 3
   },
   "file_extension": ".py",
   "mimetype": "text/x-python",
   "name": "python",
   "nbconvert_exporter": "python",
   "pygments_lexer": "ipython3",
   "version": "3.12.10"
  }
 },
 "nbformat": 4,
 "nbformat_minor": 5
}
